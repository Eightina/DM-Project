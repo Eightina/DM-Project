{
 "cells": [
  {
   "cell_type": "code",
   "execution_count": 9,
   "metadata": {},
   "outputs": [],
   "source": [
    "from sklearn.feature_extraction.text import CountVectorizer\n",
    "from sklearn.feature_extraction.text import TfidfTransformer\n",
    "from sklearn.model_selection import GridSearchCV\n",
    "from sklearn.pipeline import Pipeline\n",
    "from sklearn.naive_bayes import MultinomialNB\n",
    "import pandas as pd\n",
    "import joblib\n",
    "import numpy as np\n"
   ]
  },
  {
   "cell_type": "code",
   "execution_count": 10,
   "metadata": {},
   "outputs": [],
   "source": [
    "traindf = pd.read_excel('./data/Task-2/train.xlsx')\n",
    "testdf = pd.read_excel('./data/Task-2/test.xlsx').drop('rid', axis=1)\n"
   ]
  },
  {
   "cell_type": "code",
   "execution_count": 11,
   "metadata": {},
   "outputs": [
    {
     "data": {
      "text/plain": "label\n 1    2822\n-1    2822\nName: count, dtype: int64"
     },
     "execution_count": 11,
     "metadata": {},
     "output_type": "execute_result"
    }
   ],
   "source": [
    "from imblearn.over_sampling import RandomOverSampler\n",
    "# trainData.groupby('label').count()\n",
    "\n",
    "traindf.drop_duplicates(subset='text',inplace=True)\n",
    "#class balancing\n",
    "ros = RandomOverSampler()\n",
    "train_x, train_y = ros.fit_resample(np.array(traindf['text']).reshape(-1, 1), np.array(traindf['label']).reshape(-1, 1))\n",
    "traindf_balance = pd.DataFrame(list(zip([x[0] for x in train_x], train_y)), columns = ['text', 'label'])\n",
    "traindf_balance['label'].value_counts()"
   ]
  },
  {
   "cell_type": "code",
   "execution_count": 12,
   "outputs": [
    {
     "data": {
      "text/plain": "                                                   text  label\n0     Fiskars has a strong portfolio of internationa...      1\n1     METALS-Zinc surges 12 pct after Glencore cuts ...      1\n2     According to Scanfil , demand for telecommunic...     -1\n3     dbs launches new banking api developer platfor...      1\n4     Theodosopoulos said Tellabs could be of value ...      1\n...                                                 ...    ...\n5639  National Conciliator Juhani Salonius , who met...     -1\n5640  market fell not solely on rm1 trillion governm...     -1\n5641  aramco plans to ship first crude oil to malays...     -1\n5642  aramco plans to ship first crude oil to malays...     -1\n5643  fitch revises malaysian banks' outlook in 2016...     -1\n\n[5644 rows x 2 columns]",
      "text/html": "<div>\n<style scoped>\n    .dataframe tbody tr th:only-of-type {\n        vertical-align: middle;\n    }\n\n    .dataframe tbody tr th {\n        vertical-align: top;\n    }\n\n    .dataframe thead th {\n        text-align: right;\n    }\n</style>\n<table border=\"1\" class=\"dataframe\">\n  <thead>\n    <tr style=\"text-align: right;\">\n      <th></th>\n      <th>text</th>\n      <th>label</th>\n    </tr>\n  </thead>\n  <tbody>\n    <tr>\n      <th>0</th>\n      <td>Fiskars has a strong portfolio of internationa...</td>\n      <td>1</td>\n    </tr>\n    <tr>\n      <th>1</th>\n      <td>METALS-Zinc surges 12 pct after Glencore cuts ...</td>\n      <td>1</td>\n    </tr>\n    <tr>\n      <th>2</th>\n      <td>According to Scanfil , demand for telecommunic...</td>\n      <td>-1</td>\n    </tr>\n    <tr>\n      <th>3</th>\n      <td>dbs launches new banking api developer platfor...</td>\n      <td>1</td>\n    </tr>\n    <tr>\n      <th>4</th>\n      <td>Theodosopoulos said Tellabs could be of value ...</td>\n      <td>1</td>\n    </tr>\n    <tr>\n      <th>...</th>\n      <td>...</td>\n      <td>...</td>\n    </tr>\n    <tr>\n      <th>5639</th>\n      <td>National Conciliator Juhani Salonius , who met...</td>\n      <td>-1</td>\n    </tr>\n    <tr>\n      <th>5640</th>\n      <td>market fell not solely on rm1 trillion governm...</td>\n      <td>-1</td>\n    </tr>\n    <tr>\n      <th>5641</th>\n      <td>aramco plans to ship first crude oil to malays...</td>\n      <td>-1</td>\n    </tr>\n    <tr>\n      <th>5642</th>\n      <td>aramco plans to ship first crude oil to malays...</td>\n      <td>-1</td>\n    </tr>\n    <tr>\n      <th>5643</th>\n      <td>fitch revises malaysian banks' outlook in 2016...</td>\n      <td>-1</td>\n    </tr>\n  </tbody>\n</table>\n<p>5644 rows × 2 columns</p>\n</div>"
     },
     "execution_count": 12,
     "metadata": {},
     "output_type": "execute_result"
    }
   ],
   "source": [
    "traindf_balance"
   ],
   "metadata": {
    "collapsed": false
   }
  },
  {
   "cell_type": "code",
   "execution_count": 13,
   "metadata": {},
   "outputs": [],
   "source": [
    "import time\n",
    "from sklearn import svm\n",
    "from sklearn.metrics import classification_report\n",
    "from sklearn.feature_extraction.text import TfidfVectorizer\n",
    "pipeline = Pipeline([\n",
    "    ('tfidfvec', TfidfVectorizer()),\n",
    "    ('svm', svm.SVC(probability=True)),\n",
    "])\n",
    "# Create feature vectors\n",
    "# vectorizer = TfidfVectorizer(min_df = 5,\n",
    "#                              max_df = 0.8,\n",
    "#                              sublinear_tf = True,\n",
    "#                              use_idf = True)\n"
   ]
  },
  {
   "cell_type": "code",
   "execution_count": 14,
   "metadata": {},
   "outputs": [],
   "source": [
    "parameters = {\n",
    "    'tfidfvec__max_df': (0.5, 0.75, 1.0),\n",
    "    'tfidfvec__min_df': [5],\n",
    "    # 'tfidfvec__min_df': (0.5, 0.75, 1.0),\n",
    "    'tfidfvec__ngram_range': ((1, 1), (1, 2), (1, 3)),\n",
    "    'tfidfvec__use_idf': (True, False),\n",
    "    'tfidfvec__norm': ('l1', 'l2'),\n",
    "    'svm__C': (1, 10, 100, 1000),\n",
    "    'svm__kernel':('linear', 'rbf'),\n",
    "    # 'svm__probability':[True]\n",
    "}\n",
    "grid_search = GridSearchCV(pipeline, parameters, scoring='f1', n_jobs=-1, verbose=1, cv=5)"
   ]
  },
  {
   "cell_type": "code",
   "execution_count": 15,
   "metadata": {},
   "outputs": [
    {
     "name": "stdout",
     "output_type": "stream",
     "text": [
      "Fitting 5 folds for each of 288 candidates, totalling 1440 fits\n",
      "Performing grid search...\n",
      "pipeline: ['tfidfvec', 'svm']\n",
      "parameters:\n",
      "Best score: 0.896\n",
      "Best parameters set:\n",
      "\tsvm__C: 10\n",
      "\tsvm__kernel: 'rbf'\n",
      "\ttfidfvec__max_df: 0.5\n",
      "\ttfidfvec__min_df: 5\n",
      "\ttfidfvec__ngram_range: (1, 1)\n",
      "\ttfidfvec__norm: 'l2'\n",
      "\ttfidfvec__use_idf: True\n"
     ]
    }
   ],
   "source": [
    "grid_search.fit(traindf_balance['text'],traindf_balance['label'])\n",
    "\n",
    "print(\"Performing grid search...\")\n",
    "print(\"pipeline:\", [name for name, _ in pipeline.steps])\n",
    "print(\"parameters:\")\n",
    "print(\"Best score: %0.3f\" % grid_search.best_score_)\n",
    "print(\"Best parameters set:\")\n",
    "best_parameters = grid_search.best_estimator_.get_params()\n",
    "for param_name in sorted(parameters.keys()):\n",
    "    print(\"\\t%s: %r\" % (param_name, best_parameters[param_name]))"
   ]
  },
  {
   "cell_type": "markdown",
   "metadata": {},
   "source": [
    "Fitting 5 folds for each of 288 candidates, totalling 1440 fits\n",
    "Performing grid search...\n",
    "pipeline: ['tfidfvec', 'svm']\n",
    "parameters:\n",
    "Best score: 0.853\n",
    "Best parameters set:\n",
    "\tsvm__C: 1\n",
    "\tsvm__kernel: 'linear'\n",
    "\ttfidfvec__max_df: 0.5\n",
    "\ttfidfvec__min_df: 5\n",
    "\ttfidfvec__ngram_range: (1, 3)\n",
    "\ttfidfvec__norm: 'l2'\n",
    "\ttfidfvec__use_idf: True"
   ]
  },
  {
   "cell_type": "code",
   "execution_count": 16,
   "metadata": {},
   "outputs": [
    {
     "data": {
      "text/plain": "['text_sentiment_model_svm00.joblib']"
     },
     "execution_count": 16,
     "metadata": {},
     "output_type": "execute_result"
    }
   ],
   "source": [
    "joblib.dump(grid_search, \"text_sentiment_model_svm00.joblib\")"
   ]
  },
  {
   "cell_type": "code",
   "execution_count": 17,
   "metadata": {},
   "outputs": [
    {
     "data": {
      "text/plain": "     mean_fit_time  std_fit_time  mean_score_time  std_score_time  \\\n0        12.292284      0.097109         0.560750        0.027192   \n1        11.954178      0.189580         0.518860        0.012573   \n2         9.014627      0.219767         0.361824        0.022573   \n3         9.270876      0.147565         0.368253        0.021005   \n4        15.284053      0.227565         0.674501        0.024376   \n..             ...           ...              ...             ...   \n283      15.494116      0.651162         0.674211        0.144905   \n284      16.436730      1.184496         0.562114        0.024313   \n285      16.055703      0.597328         0.507503        0.061343   \n286      15.360372      0.424929         0.498348        0.042687   \n287      13.672950      1.335815         0.396390        0.029753   \n\n    param_svm__C param_svm__kernel param_tfidfvec__max_df  \\\n0              1            linear                    0.5   \n1              1            linear                    0.5   \n2              1            linear                    0.5   \n3              1            linear                    0.5   \n4              1            linear                    0.5   \n..           ...               ...                    ...   \n283         1000               rbf                    1.0   \n284         1000               rbf                    1.0   \n285         1000               rbf                    1.0   \n286         1000               rbf                    1.0   \n287         1000               rbf                    1.0   \n\n    param_tfidfvec__min_df param_tfidfvec__ngram_range param_tfidfvec__norm  \\\n0                        5                      (1, 1)                   l1   \n1                        5                      (1, 1)                   l1   \n2                        5                      (1, 1)                   l2   \n3                        5                      (1, 1)                   l2   \n4                        5                      (1, 2)                   l1   \n..                     ...                         ...                  ...   \n283                      5                      (1, 2)                   l2   \n284                      5                      (1, 3)                   l1   \n285                      5                      (1, 3)                   l1   \n286                      5                      (1, 3)                   l2   \n287                      5                      (1, 3)                   l2   \n\n    param_tfidfvec__use_idf  \\\n0                      True   \n1                     False   \n2                      True   \n3                     False   \n4                      True   \n..                      ...   \n283                   False   \n284                    True   \n285                   False   \n286                    True   \n287                   False   \n\n                                                params  split0_test_score  \\\n0    {'svm__C': 1, 'svm__kernel': 'linear', 'tfidfv...           0.777778   \n1    {'svm__C': 1, 'svm__kernel': 'linear', 'tfidfv...           0.725835   \n2    {'svm__C': 1, 'svm__kernel': 'linear', 'tfidfv...           0.829006   \n3    {'svm__C': 1, 'svm__kernel': 'linear', 'tfidfv...           0.823009   \n4    {'svm__C': 1, 'svm__kernel': 'linear', 'tfidfv...           0.763736   \n..                                                 ...                ...   \n283  {'svm__C': 1000, 'svm__kernel': 'rbf', 'tfidfv...           0.866033   \n284  {'svm__C': 1000, 'svm__kernel': 'rbf', 'tfidfv...           0.867241   \n285  {'svm__C': 1000, 'svm__kernel': 'rbf', 'tfidfv...           0.872727   \n286  {'svm__C': 1000, 'svm__kernel': 'rbf', 'tfidfv...           0.860364   \n287  {'svm__C': 1000, 'svm__kernel': 'rbf', 'tfidfv...           0.865801   \n\n     split1_test_score  split2_test_score  split3_test_score  \\\n0             0.795830           0.776874           0.777570   \n1             0.746599           0.731010           0.739602   \n2             0.836237           0.825571           0.834586   \n3             0.829565           0.810909           0.832090   \n4             0.787825           0.759070           0.770833   \n..                 ...                ...                ...   \n283           0.885135           0.867892           0.920574   \n284           0.875740           0.862099           0.917466   \n285           0.878788           0.860870           0.920574   \n286           0.879195           0.869489           0.923664   \n287           0.879661           0.866900           0.919540   \n\n     split4_test_score  mean_test_score  std_test_score  rank_test_score  \n0             0.813620         0.788334        0.014520              271  \n1             0.763828         0.741375        0.013293              280  \n2             0.856604         0.836401        0.010802              259  \n3             0.841035         0.827322        0.010038              268  \n4             0.807692         0.777831        0.017839              274  \n..                 ...              ...             ...              ...  \n283           0.931818         0.894290        0.027123               34  \n284           0.928775         0.890264        0.027413              109  \n285           0.924690         0.891530        0.026073               94  \n286           0.930806         0.892703        0.028905               73  \n287           0.925714         0.891523        0.025933               97  \n\n[288 rows x 20 columns]",
      "text/html": "<div>\n<style scoped>\n    .dataframe tbody tr th:only-of-type {\n        vertical-align: middle;\n    }\n\n    .dataframe tbody tr th {\n        vertical-align: top;\n    }\n\n    .dataframe thead th {\n        text-align: right;\n    }\n</style>\n<table border=\"1\" class=\"dataframe\">\n  <thead>\n    <tr style=\"text-align: right;\">\n      <th></th>\n      <th>mean_fit_time</th>\n      <th>std_fit_time</th>\n      <th>mean_score_time</th>\n      <th>std_score_time</th>\n      <th>param_svm__C</th>\n      <th>param_svm__kernel</th>\n      <th>param_tfidfvec__max_df</th>\n      <th>param_tfidfvec__min_df</th>\n      <th>param_tfidfvec__ngram_range</th>\n      <th>param_tfidfvec__norm</th>\n      <th>param_tfidfvec__use_idf</th>\n      <th>params</th>\n      <th>split0_test_score</th>\n      <th>split1_test_score</th>\n      <th>split2_test_score</th>\n      <th>split3_test_score</th>\n      <th>split4_test_score</th>\n      <th>mean_test_score</th>\n      <th>std_test_score</th>\n      <th>rank_test_score</th>\n    </tr>\n  </thead>\n  <tbody>\n    <tr>\n      <th>0</th>\n      <td>12.292284</td>\n      <td>0.097109</td>\n      <td>0.560750</td>\n      <td>0.027192</td>\n      <td>1</td>\n      <td>linear</td>\n      <td>0.5</td>\n      <td>5</td>\n      <td>(1, 1)</td>\n      <td>l1</td>\n      <td>True</td>\n      <td>{'svm__C': 1, 'svm__kernel': 'linear', 'tfidfv...</td>\n      <td>0.777778</td>\n      <td>0.795830</td>\n      <td>0.776874</td>\n      <td>0.777570</td>\n      <td>0.813620</td>\n      <td>0.788334</td>\n      <td>0.014520</td>\n      <td>271</td>\n    </tr>\n    <tr>\n      <th>1</th>\n      <td>11.954178</td>\n      <td>0.189580</td>\n      <td>0.518860</td>\n      <td>0.012573</td>\n      <td>1</td>\n      <td>linear</td>\n      <td>0.5</td>\n      <td>5</td>\n      <td>(1, 1)</td>\n      <td>l1</td>\n      <td>False</td>\n      <td>{'svm__C': 1, 'svm__kernel': 'linear', 'tfidfv...</td>\n      <td>0.725835</td>\n      <td>0.746599</td>\n      <td>0.731010</td>\n      <td>0.739602</td>\n      <td>0.763828</td>\n      <td>0.741375</td>\n      <td>0.013293</td>\n      <td>280</td>\n    </tr>\n    <tr>\n      <th>2</th>\n      <td>9.014627</td>\n      <td>0.219767</td>\n      <td>0.361824</td>\n      <td>0.022573</td>\n      <td>1</td>\n      <td>linear</td>\n      <td>0.5</td>\n      <td>5</td>\n      <td>(1, 1)</td>\n      <td>l2</td>\n      <td>True</td>\n      <td>{'svm__C': 1, 'svm__kernel': 'linear', 'tfidfv...</td>\n      <td>0.829006</td>\n      <td>0.836237</td>\n      <td>0.825571</td>\n      <td>0.834586</td>\n      <td>0.856604</td>\n      <td>0.836401</td>\n      <td>0.010802</td>\n      <td>259</td>\n    </tr>\n    <tr>\n      <th>3</th>\n      <td>9.270876</td>\n      <td>0.147565</td>\n      <td>0.368253</td>\n      <td>0.021005</td>\n      <td>1</td>\n      <td>linear</td>\n      <td>0.5</td>\n      <td>5</td>\n      <td>(1, 1)</td>\n      <td>l2</td>\n      <td>False</td>\n      <td>{'svm__C': 1, 'svm__kernel': 'linear', 'tfidfv...</td>\n      <td>0.823009</td>\n      <td>0.829565</td>\n      <td>0.810909</td>\n      <td>0.832090</td>\n      <td>0.841035</td>\n      <td>0.827322</td>\n      <td>0.010038</td>\n      <td>268</td>\n    </tr>\n    <tr>\n      <th>4</th>\n      <td>15.284053</td>\n      <td>0.227565</td>\n      <td>0.674501</td>\n      <td>0.024376</td>\n      <td>1</td>\n      <td>linear</td>\n      <td>0.5</td>\n      <td>5</td>\n      <td>(1, 2)</td>\n      <td>l1</td>\n      <td>True</td>\n      <td>{'svm__C': 1, 'svm__kernel': 'linear', 'tfidfv...</td>\n      <td>0.763736</td>\n      <td>0.787825</td>\n      <td>0.759070</td>\n      <td>0.770833</td>\n      <td>0.807692</td>\n      <td>0.777831</td>\n      <td>0.017839</td>\n      <td>274</td>\n    </tr>\n    <tr>\n      <th>...</th>\n      <td>...</td>\n      <td>...</td>\n      <td>...</td>\n      <td>...</td>\n      <td>...</td>\n      <td>...</td>\n      <td>...</td>\n      <td>...</td>\n      <td>...</td>\n      <td>...</td>\n      <td>...</td>\n      <td>...</td>\n      <td>...</td>\n      <td>...</td>\n      <td>...</td>\n      <td>...</td>\n      <td>...</td>\n      <td>...</td>\n      <td>...</td>\n      <td>...</td>\n    </tr>\n    <tr>\n      <th>283</th>\n      <td>15.494116</td>\n      <td>0.651162</td>\n      <td>0.674211</td>\n      <td>0.144905</td>\n      <td>1000</td>\n      <td>rbf</td>\n      <td>1.0</td>\n      <td>5</td>\n      <td>(1, 2)</td>\n      <td>l2</td>\n      <td>False</td>\n      <td>{'svm__C': 1000, 'svm__kernel': 'rbf', 'tfidfv...</td>\n      <td>0.866033</td>\n      <td>0.885135</td>\n      <td>0.867892</td>\n      <td>0.920574</td>\n      <td>0.931818</td>\n      <td>0.894290</td>\n      <td>0.027123</td>\n      <td>34</td>\n    </tr>\n    <tr>\n      <th>284</th>\n      <td>16.436730</td>\n      <td>1.184496</td>\n      <td>0.562114</td>\n      <td>0.024313</td>\n      <td>1000</td>\n      <td>rbf</td>\n      <td>1.0</td>\n      <td>5</td>\n      <td>(1, 3)</td>\n      <td>l1</td>\n      <td>True</td>\n      <td>{'svm__C': 1000, 'svm__kernel': 'rbf', 'tfidfv...</td>\n      <td>0.867241</td>\n      <td>0.875740</td>\n      <td>0.862099</td>\n      <td>0.917466</td>\n      <td>0.928775</td>\n      <td>0.890264</td>\n      <td>0.027413</td>\n      <td>109</td>\n    </tr>\n    <tr>\n      <th>285</th>\n      <td>16.055703</td>\n      <td>0.597328</td>\n      <td>0.507503</td>\n      <td>0.061343</td>\n      <td>1000</td>\n      <td>rbf</td>\n      <td>1.0</td>\n      <td>5</td>\n      <td>(1, 3)</td>\n      <td>l1</td>\n      <td>False</td>\n      <td>{'svm__C': 1000, 'svm__kernel': 'rbf', 'tfidfv...</td>\n      <td>0.872727</td>\n      <td>0.878788</td>\n      <td>0.860870</td>\n      <td>0.920574</td>\n      <td>0.924690</td>\n      <td>0.891530</td>\n      <td>0.026073</td>\n      <td>94</td>\n    </tr>\n    <tr>\n      <th>286</th>\n      <td>15.360372</td>\n      <td>0.424929</td>\n      <td>0.498348</td>\n      <td>0.042687</td>\n      <td>1000</td>\n      <td>rbf</td>\n      <td>1.0</td>\n      <td>5</td>\n      <td>(1, 3)</td>\n      <td>l2</td>\n      <td>True</td>\n      <td>{'svm__C': 1000, 'svm__kernel': 'rbf', 'tfidfv...</td>\n      <td>0.860364</td>\n      <td>0.879195</td>\n      <td>0.869489</td>\n      <td>0.923664</td>\n      <td>0.930806</td>\n      <td>0.892703</td>\n      <td>0.028905</td>\n      <td>73</td>\n    </tr>\n    <tr>\n      <th>287</th>\n      <td>13.672950</td>\n      <td>1.335815</td>\n      <td>0.396390</td>\n      <td>0.029753</td>\n      <td>1000</td>\n      <td>rbf</td>\n      <td>1.0</td>\n      <td>5</td>\n      <td>(1, 3)</td>\n      <td>l2</td>\n      <td>False</td>\n      <td>{'svm__C': 1000, 'svm__kernel': 'rbf', 'tfidfv...</td>\n      <td>0.865801</td>\n      <td>0.879661</td>\n      <td>0.866900</td>\n      <td>0.919540</td>\n      <td>0.925714</td>\n      <td>0.891523</td>\n      <td>0.025933</td>\n      <td>97</td>\n    </tr>\n  </tbody>\n</table>\n<p>288 rows × 20 columns</p>\n</div>"
     },
     "execution_count": 17,
     "metadata": {},
     "output_type": "execute_result"
    }
   ],
   "source": [
    "cvresult = pd.DataFrame(grid_search.cv_results_)\n",
    "cvresult"
   ]
  },
  {
   "cell_type": "code",
   "execution_count": 18,
   "metadata": {},
   "outputs": [
    {
     "ename": "NameError",
     "evalue": "name 'classifier_linear' is not defined",
     "output_type": "error",
     "traceback": [
      "\u001B[1;31m---------------------------------------------------------------------------\u001B[0m",
      "\u001B[1;31mNameError\u001B[0m                                 Traceback (most recent call last)",
      "Cell \u001B[1;32mIn[18], line 1\u001B[0m\n\u001B[1;32m----> 1\u001B[0m testData[\u001B[38;5;124m'\u001B[39m\u001B[38;5;124mproba\u001B[39m\u001B[38;5;124m'\u001B[39m] \u001B[38;5;241m=\u001B[39m np\u001B[38;5;241m.\u001B[39mmax(classifier_linear\u001B[38;5;241m.\u001B[39mpredict_proba(test_vectors), axis \u001B[38;5;241m=\u001B[39m \u001B[38;5;241m1\u001B[39m)\n",
      "\u001B[1;31mNameError\u001B[0m: name 'classifier_linear' is not defined"
     ]
    }
   ],
   "source": [
    "testData['proba'] = np.max(classifier_linear.predict_proba(test_vectors), axis = 1)"
   ]
  },
  {
   "cell_type": "code",
   "execution_count": null,
   "metadata": {},
   "outputs": [],
   "source": [
    "report"
   ]
  }
 ],
 "metadata": {
  "kernelspec": {
   "display_name": "Python 3",
   "language": "python",
   "name": "python3"
  },
  "language_info": {
   "codemirror_mode": {
    "name": "ipython",
    "version": 3
   },
   "file_extension": ".py",
   "mimetype": "text/x-python",
   "name": "python",
   "nbconvert_exporter": "python",
   "pygments_lexer": "ipython3",
   "version": "3.9.18"
  }
 },
 "nbformat": 4,
 "nbformat_minor": 2
}
