{
 "cells": [
  {
   "cell_type": "code",
   "execution_count": null,
   "metadata": {},
   "outputs": [],
   "source": [
    "# !--extra-index-url https://download.pytorch.org/whl/cpu"
   ]
  },
  {
   "cell_type": "code",
   "execution_count": null,
   "metadata": {},
   "outputs": [],
   "source": [
    "import numpy as np\n",
    "import pandas as pd\n",
    "from datasets import load_dataset, Dataset, Value, ClassLabel, Features\n",
    "from transformers import AdamW, AutoTokenizer, AutoModelForSequenceClassification, TextClassificationPipeline"
   ]
  },
  {
   "cell_type": "code",
   "execution_count": null,
   "metadata": {},
   "outputs": [],
   "source": [
    "def pipe_predict(pipe, x):\n",
    "    pred_res = pipe(x)\n",
    "    if pred_res[0][0]['score'] > pred_res[0][1]['score']:\n",
    "        pred_res = pred_res[0][0]\n",
    "    else:\n",
    "        pred_res = pred_res[0][1]\n",
    "    if pred_res['label'] == 'LABEL_0':\n",
    "        pred_res['label'] = -1\n",
    "    else:\n",
    "        pred_res['label'] = 1\n",
    "    final_res = \"{{\\\"label\\\":{}, \\\"sentiment:\\\"{}}}\".format(\n",
    "            pred_res['label'],\n",
    "            pred_res['score']\n",
    "        )\n",
    "    return final_res\n",
    "class LocalModel:\n",
    "    pass\n",
    "LocalModel.tokenizer = AutoTokenizer.from_pretrained(\"./test-trainer/roberta_model\")\n",
    "LocalModel.model = AutoModelForSequenceClassification.from_pretrained(\"./test-trainer/roberta_model\", )\n",
    "# news_title = dict(payload)['news_title']\n",
    "pipe = TextClassificationPipeline(model=LocalModel.model, tokenizer=LocalModel.tokenizer, return_all_scores=True)\n",
    "pipe_predict(pipe, \"Nice Day High Profit\")"
   ]
  },
  {
   "cell_type": "code",
   "execution_count": null,
   "metadata": {},
   "outputs": [],
   "source": [
    "# checkpoint = \"distilroberta-base\"\n",
    "tokenizer = AutoTokenizer.from_pretrained(\"./test-trainer/roberta_model\")"
   ]
  },
  {
   "cell_type": "code",
   "execution_count": null,
   "metadata": {},
   "outputs": [],
   "source": [
    "new_model = AutoModelForSequenceClassification.from_pretrained(\"./test-trainer/roberta_model\", )\n",
    "# from transformers import pipeline\n",
    "from transformers import TextClassificationPipeline\n",
    "\n",
    "model = new_model\n",
    "# tokenizer = tokenizer\n",
    "pipe = TextClassificationPipeline(model=model, tokenizer=tokenizer, return_all_scores=True)\n",
    "# outputs a list of dicts like [[{'label': 'NEGATIVE', 'score': 0.0001223755971295759},  {'label': 'POSITIVE', 'score': 0.9998776316642761}]]"
   ]
  },
  {
   "cell_type": "code",
   "execution_count": null,
   "metadata": {},
   "outputs": [],
   "source": [
    "def pipe_predict(pipe, x):\n",
    "    pred_res = pipe(x)\n",
    "    if pred_res[0][0]['score'] > pred_res[0][1]['score']:\n",
    "        pred_res = pred_res[0][0]\n",
    "    else:\n",
    "        pred_res = pred_res[0][1]\n",
    "    if pred_res['label'] == 'LABEL_0':\n",
    "        pred_res['label'] = -1\n",
    "    else:\n",
    "        pred_res['label'] = 1\n",
    "    final_res = \"{{\\\"label\\\":{}, \\\"sentiment:\\\"{}}}\".format(\n",
    "            pred_res['label'],\n",
    "            pred_res['score']\n",
    "        )\n",
    "    return final_res"
   ]
  },
  {
   "cell_type": "code",
   "execution_count": null,
   "metadata": {},
   "outputs": [],
   "source": []
  },
  {
   "cell_type": "code",
   "execution_count": null,
   "metadata": {},
   "outputs": [],
   "source": []
  }
 ],
 "metadata": {
  "kernelspec": {
   "display_name": "Python 3",
   "language": "python",
   "name": "python3"
  },
  "language_info": {
   "codemirror_mode": {
    "name": "ipython",
    "version": 3
   },
   "file_extension": ".py",
   "mimetype": "text/x-python",
   "name": "python",
   "nbconvert_exporter": "python",
   "pygments_lexer": "ipython3",
   "version": "3.9.18"
  }
 },
 "nbformat": 4,
 "nbformat_minor": 2
}
